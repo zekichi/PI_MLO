{
 "cells": [
  {
   "cell_type": "code",
   "execution_count": 2,
   "metadata": {},
   "outputs": [],
   "source": [
    "import pandas as pd\n",
    "import ast"
   ]
  },
  {
   "cell_type": "markdown",
   "metadata": {},
   "source": [
    "# Optimización de dataset"
   ]
  },
  {
   "cell_type": "markdown",
   "metadata": {},
   "source": []
  },
  {
   "cell_type": "markdown",
   "metadata": {},
   "source": [
    "Auquí nos centraremos en optimizar los datasets para, obtener nuevos con fin de mejorar el rendimiento de las API"
   ]
  },
  {
   "cell_type": "code",
   "execution_count": 4,
   "metadata": {},
   "outputs": [],
   "source": [
    "# cargamos los conjuntos de datos que preparamos en el ETL\n",
    "steam_games = pd.read_csv('../datasets/steam_games.csv')\n",
    "user_reviews = pd.read_parquet('../datasets/user_reviews.parquet')\n",
    "users_items = pd.read_parquet('../datasets/users_items.parquet')"
   ]
  },
  {
   "cell_type": "code",
   "execution_count": 5,
   "metadata": {},
   "outputs": [
    {
     "data": {
      "text/plain": [
       "Index(['genres', 'app_name', 'price', 'item_id', 'developer', 'año'], dtype='object')"
      ]
     },
     "execution_count": 5,
     "metadata": {},
     "output_type": "execute_result"
    }
   ],
   "source": [
    "steam_games.columns"
   ]
  },
  {
   "cell_type": "code",
   "execution_count": 6,
   "metadata": {},
   "outputs": [
    {
     "data": {
      "text/plain": [
       "Index(['user_id', 'steam_id', 'item_id', 'horas'], dtype='object')"
      ]
     },
     "execution_count": 6,
     "metadata": {},
     "output_type": "execute_result"
    }
   ],
   "source": [
    "users_items.columns"
   ]
  },
  {
   "cell_type": "markdown",
   "metadata": {},
   "source": [
    "## PlayTimeGenre"
   ]
  },
  {
   "cell_type": "code",
   "execution_count": 9,
   "metadata": {},
   "outputs": [
    {
     "data": {
      "text/html": [
       "<div>\n",
       "<style scoped>\n",
       "    .dataframe tbody tr th:only-of-type {\n",
       "        vertical-align: middle;\n",
       "    }\n",
       "\n",
       "    .dataframe tbody tr th {\n",
       "        vertical-align: top;\n",
       "    }\n",
       "\n",
       "    .dataframe thead th {\n",
       "        text-align: right;\n",
       "    }\n",
       "</style>\n",
       "<table border=\"1\" class=\"dataframe\">\n",
       "  <thead>\n",
       "    <tr style=\"text-align: right;\">\n",
       "      <th></th>\n",
       "      <th>año</th>\n",
       "      <th>genres</th>\n",
       "      <th>horas</th>\n",
       "    </tr>\n",
       "  </thead>\n",
       "  <tbody>\n",
       "    <tr>\n",
       "      <th>0</th>\n",
       "      <td>1983</td>\n",
       "      <td>Action</td>\n",
       "      <td>57.883333</td>\n",
       "    </tr>\n",
       "    <tr>\n",
       "      <th>1</th>\n",
       "      <td>1983</td>\n",
       "      <td>Adventure</td>\n",
       "      <td>57.883333</td>\n",
       "    </tr>\n",
       "    <tr>\n",
       "      <th>2</th>\n",
       "      <td>1983</td>\n",
       "      <td>Casual</td>\n",
       "      <td>57.883333</td>\n",
       "    </tr>\n",
       "    <tr>\n",
       "      <th>3</th>\n",
       "      <td>1983</td>\n",
       "      <td>FMV</td>\n",
       "      <td>57.883333</td>\n",
       "    </tr>\n",
       "    <tr>\n",
       "      <th>4</th>\n",
       "      <td>1983</td>\n",
       "      <td>Quick-Time Events</td>\n",
       "      <td>57.883333</td>\n",
       "    </tr>\n",
       "    <tr>\n",
       "      <th>...</th>\n",
       "      <td>...</td>\n",
       "      <td>...</td>\n",
       "      <td>...</td>\n",
       "    </tr>\n",
       "    <tr>\n",
       "      <th>69044</th>\n",
       "      <td>2018</td>\n",
       "      <td>Early Access</td>\n",
       "      <td>1.700000</td>\n",
       "    </tr>\n",
       "    <tr>\n",
       "      <th>69045</th>\n",
       "      <td>2018</td>\n",
       "      <td>Platformer</td>\n",
       "      <td>1.700000</td>\n",
       "    </tr>\n",
       "    <tr>\n",
       "      <th>69046</th>\n",
       "      <td>2018</td>\n",
       "      <td>Metroidvania</td>\n",
       "      <td>1.700000</td>\n",
       "    </tr>\n",
       "    <tr>\n",
       "      <th>69047</th>\n",
       "      <td>2018</td>\n",
       "      <td>RPG</td>\n",
       "      <td>63.350000</td>\n",
       "    </tr>\n",
       "    <tr>\n",
       "      <th>69048</th>\n",
       "      <td>2018</td>\n",
       "      <td>Early Access</td>\n",
       "      <td>63.350000</td>\n",
       "    </tr>\n",
       "  </tbody>\n",
       "</table>\n",
       "<p>69049 rows × 3 columns</p>\n",
       "</div>"
      ],
      "text/plain": [
       "        año             genres      horas\n",
       "0      1983             Action  57.883333\n",
       "1      1983          Adventure  57.883333\n",
       "2      1983             Casual  57.883333\n",
       "3      1983                FMV  57.883333\n",
       "4      1983  Quick-Time Events  57.883333\n",
       "...     ...                ...        ...\n",
       "69044  2018       Early Access   1.700000\n",
       "69045  2018         Platformer   1.700000\n",
       "69046  2018       Metroidvania   1.700000\n",
       "69047  2018                RPG  63.350000\n",
       "69048  2018       Early Access  63.350000\n",
       "\n",
       "[69049 rows x 3 columns]"
      ]
     },
     "execution_count": 9,
     "metadata": {},
     "output_type": "execute_result"
    }
   ],
   "source": [
    "# Convertir la columna 'item_id' a tipo int64 en ambos DataFrames\n",
    "users_items['item_id'] = users_items['item_id'].astype('int64')\n",
    "steam_games['item_id'] = steam_games['item_id'].astype('int64')\n",
    "\n",
    "merge = pd.merge(users_items, steam_games[['item_id', 'año', 'genres']], on='item_id', how='inner')\n",
    "\n",
    "# Ahora haremos un groupby por genero y año de lanzamiento\n",
    "merge = merge.groupby(['año', 'genres'])['horas'].sum().reset_index()\n",
    "\n",
    "#Convertiremos la columna genres a lista\n",
    "merge['genres'] = merge['genres'].apply(ast.literal_eval)\n",
    "\n",
    "#Pasamos las listas de genres a columnas\n",
    "merge = merge.explode('genres').reset_index(drop=True)\n",
    "\n",
    "merge"
   ]
  },
  {
   "cell_type": "code",
   "execution_count": 10,
   "metadata": {},
   "outputs": [],
   "source": [
    "# Encontrar el género con más horas jugadas por año \n",
    "genre = merge.loc[merge.groupby(['año', 'genres'])['horas'].idxmax()]\n",
    "\n",
    "# Ordenar el DataFrame resultante\n",
    "genre = genre.sort_values(by=['genres', 'horas', 'año'], ascending=[True, False, True])\n",
    "\n",
    "# Guardar el resultado en un archivo CSV\n",
    "genre.to_csv('../datasets/año_genres.csv', index=False)"
   ]
  },
  {
   "cell_type": "markdown",
   "metadata": {},
   "source": [
    "## UserForGenre"
   ]
  },
  {
   "cell_type": "markdown",
   "metadata": {},
   "source": [
    "para esta consulta vamos a trabajar solo con algunas columnas del dataframe steam_games, por lo cual lo guardamos en un nuevo dataframe"
   ]
  },
  {
   "cell_type": "code",
   "execution_count": 23,
   "metadata": {},
   "outputs": [],
   "source": [
    "user_genre = steam_games.drop(['app_name', 'price', 'developer'], axis=1)"
   ]
  },
  {
   "cell_type": "code",
   "execution_count": 24,
   "metadata": {},
   "outputs": [
    {
     "data": {
      "text/plain": [
       "Index(['user_id', 'steam_id', 'item_id', 'horas', 'genres', 'año'], dtype='object')"
      ]
     },
     "execution_count": 24,
     "metadata": {},
     "output_type": "execute_result"
    }
   ],
   "source": [
    "# Realizar la combinación de los DataFrames users_items y user_genre\n",
    "merge_2 = pd.merge(users_items, user_genre, left_on='item_id', right_on='item_id', how='right')\n",
    "\n",
    "merge_2.columns"
   ]
  },
  {
   "cell_type": "code",
   "execution_count": 25,
   "metadata": {},
   "outputs": [],
   "source": [
    "# Eliminar las columnas 'steam_id', 'item_id' de merge_2 y valores nulos\n",
    "merge_2.drop(['steam_id', 'item_id'], axis=1, inplace=True)\n",
    "merge_2.dropna(inplace=True)"
   ]
  },
  {
   "cell_type": "code",
   "execution_count": 31,
   "metadata": {},
   "outputs": [],
   "source": [
    "#Convertiremos la columna genres a lista\n",
    "# merge_2['genres'] = merge_2['genres'].apply(ast.literal_eval)\n",
    "\n",
    "#Expandimos las listas\n",
    "merge_2 = merge_2.explode('genres').reset_index(drop=True)"
   ]
  },
  {
   "cell_type": "code",
   "execution_count": 47,
   "metadata": {},
   "outputs": [],
   "source": [
    "# Encontrar el jugador con más horas jugadas por género y año\n",
    "max_hours = (merge_2.loc[merge_2.groupby(['genres', 'año'])['horas'].idxmax()]\n",
    "             [['genres', 'año', 'user_id', 'horas']]\n",
    "             .groupby(['genres', 'año', 'user_id'])['horas']\n",
    "             .sum()\n",
    "             .reset_index())\n",
    "\n",
    "# Exportar el resultado a un archivo CSV\n",
    "max_hours.to_csv('../datasets/genre_user.csv', index=False)\n"
   ]
  },
  {
   "cell_type": "markdown",
   "metadata": {},
   "source": [
    "## UserRecommend"
   ]
  },
  {
   "cell_type": "code",
   "execution_count": 36,
   "metadata": {},
   "outputs": [
    {
     "data": {
      "text/plain": [
       "Index(['user_id', 'posted', 'item_id', 'recommend', 'sentiment_analysis'], dtype='object')"
      ]
     },
     "execution_count": 36,
     "metadata": {},
     "output_type": "execute_result"
    }
   ],
   "source": [
    "user_reviews.columns"
   ]
  },
  {
   "cell_type": "code",
   "execution_count": 46,
   "metadata": {},
   "outputs": [
    {
     "data": {
      "text/html": [
       "<div>\n",
       "<style scoped>\n",
       "    .dataframe tbody tr th:only-of-type {\n",
       "        vertical-align: middle;\n",
       "    }\n",
       "\n",
       "    .dataframe tbody tr th {\n",
       "        vertical-align: top;\n",
       "    }\n",
       "\n",
       "    .dataframe thead th {\n",
       "        text-align: right;\n",
       "    }\n",
       "</style>\n",
       "<table border=\"1\" class=\"dataframe\">\n",
       "  <thead>\n",
       "    <tr style=\"text-align: right;\">\n",
       "      <th></th>\n",
       "      <th>año</th>\n",
       "      <th>app_name</th>\n",
       "      <th>count</th>\n",
       "    </tr>\n",
       "  </thead>\n",
       "  <tbody>\n",
       "    <tr>\n",
       "      <th>2609</th>\n",
       "      <td>2017.0</td>\n",
       "      <td>Unturned</td>\n",
       "      <td>900</td>\n",
       "    </tr>\n",
       "    <tr>\n",
       "      <th>2603</th>\n",
       "      <td>2017.0</td>\n",
       "      <td>Robocraft</td>\n",
       "      <td>244</td>\n",
       "    </tr>\n",
       "    <tr>\n",
       "      <th>2568</th>\n",
       "      <td>2017.0</td>\n",
       "      <td>ARK: Survival Evolved</td>\n",
       "      <td>214</td>\n",
       "    </tr>\n",
       "    <tr>\n",
       "      <th>2480</th>\n",
       "      <td>2016.0</td>\n",
       "      <td>Starbound</td>\n",
       "      <td>325</td>\n",
       "    </tr>\n",
       "    <tr>\n",
       "      <th>2335</th>\n",
       "      <td>2016.0</td>\n",
       "      <td>Heroes &amp; Generals</td>\n",
       "      <td>156</td>\n",
       "    </tr>\n",
       "    <tr>\n",
       "      <th>...</th>\n",
       "      <td>...</td>\n",
       "      <td>...</td>\n",
       "      <td>...</td>\n",
       "    </tr>\n",
       "    <tr>\n",
       "      <th>6</th>\n",
       "      <td>1992.0</td>\n",
       "      <td>Word Rescue</td>\n",
       "      <td>1</td>\n",
       "    </tr>\n",
       "    <tr>\n",
       "      <th>3</th>\n",
       "      <td>1991.0</td>\n",
       "      <td>Crystal Caves</td>\n",
       "      <td>1</td>\n",
       "    </tr>\n",
       "    <tr>\n",
       "      <th>1</th>\n",
       "      <td>1990.0</td>\n",
       "      <td>Commander Keen</td>\n",
       "      <td>3</td>\n",
       "    </tr>\n",
       "    <tr>\n",
       "      <th>2</th>\n",
       "      <td>1990.0</td>\n",
       "      <td>LOOM™</td>\n",
       "      <td>1</td>\n",
       "    </tr>\n",
       "    <tr>\n",
       "      <th>0</th>\n",
       "      <td>1989.0</td>\n",
       "      <td>Sword of the Samurai</td>\n",
       "      <td>1</td>\n",
       "    </tr>\n",
       "  </tbody>\n",
       "</table>\n",
       "<p>82 rows × 3 columns</p>\n",
       "</div>"
      ],
      "text/plain": [
       "         año               app_name  count\n",
       "2609  2017.0               Unturned    900\n",
       "2603  2017.0              Robocraft    244\n",
       "2568  2017.0  ARK: Survival Evolved    214\n",
       "2480  2016.0              Starbound    325\n",
       "2335  2016.0      Heroes & Generals    156\n",
       "...      ...                    ...    ...\n",
       "6     1992.0            Word Rescue      1\n",
       "3     1991.0          Crystal Caves      1\n",
       "1     1990.0         Commander Keen      3\n",
       "2     1990.0                  LOOM™      1\n",
       "0     1989.0   Sword of the Samurai      1\n",
       "\n",
       "[82 rows x 3 columns]"
      ]
     },
     "execution_count": 46,
     "metadata": {},
     "output_type": "execute_result"
    }
   ],
   "source": [
    "user_reviews['item_id'] = user_reviews['item_id'].astype('int64')\n",
    "\n",
    "merge_3 = pd.merge(user_reviews, steam_games, on='item_id', how='left')\n",
    "\n",
    "# Filtrar las filas que cumplen con las condiciones\n",
    "result = merge_3.loc[(merge_3['recommend'] == True) & \n",
    "                    (merge_3['sentiment_analysis'].isin([1, 2])),\n",
    "                    ['año', 'app_name']]\n",
    "\n",
    "merge_3_group = result.groupby(['año', 'app_name']).size().reset_index(name='count')\n",
    "\n",
    "merge_3_group = merge_3_group.sort_values(by=['año', 'count'], ascending=[False, False])\n",
    "\n",
    "top3 = merge_3_group.groupby('año').head(3)\n",
    "\n",
    "top3.to_csv('../datasets/recomennd.csv', index=False)\n",
    "top3\n"
   ]
  },
  {
   "cell_type": "markdown",
   "metadata": {},
   "source": [
    "## UsersWorstDevelopers"
   ]
  },
  {
   "cell_type": "code",
   "execution_count": 51,
   "metadata": {},
   "outputs": [
    {
     "data": {
      "text/html": [
       "<div>\n",
       "<style scoped>\n",
       "    .dataframe tbody tr th:only-of-type {\n",
       "        vertical-align: middle;\n",
       "    }\n",
       "\n",
       "    .dataframe tbody tr th {\n",
       "        vertical-align: top;\n",
       "    }\n",
       "\n",
       "    .dataframe thead th {\n",
       "        text-align: right;\n",
       "    }\n",
       "</style>\n",
       "<table border=\"1\" class=\"dataframe\">\n",
       "  <thead>\n",
       "    <tr style=\"text-align: right;\">\n",
       "      <th></th>\n",
       "      <th>año</th>\n",
       "      <th>developer</th>\n",
       "      <th>count</th>\n",
       "    </tr>\n",
       "  </thead>\n",
       "  <tbody>\n",
       "    <tr>\n",
       "      <th>2671</th>\n",
       "      <td>2017.0</td>\n",
       "      <td>Smartly Dressed Games</td>\n",
       "      <td>1050</td>\n",
       "    </tr>\n",
       "    <tr>\n",
       "      <th>2646</th>\n",
       "      <td>2017.0</td>\n",
       "      <td>Freejam</td>\n",
       "      <td>346</td>\n",
       "    </tr>\n",
       "    <tr>\n",
       "      <th>2672</th>\n",
       "      <td>2017.0</td>\n",
       "      <td>Studio Wildcard,Instinct Games,Efecto Studios,...</td>\n",
       "      <td>311</td>\n",
       "    </tr>\n",
       "    <tr>\n",
       "      <th>2302</th>\n",
       "      <td>2016.0</td>\n",
       "      <td>Chucklefish</td>\n",
       "      <td>351</td>\n",
       "    </tr>\n",
       "    <tr>\n",
       "      <th>2517</th>\n",
       "      <td>2016.0</td>\n",
       "      <td>Reto-Moto</td>\n",
       "      <td>242</td>\n",
       "    </tr>\n",
       "    <tr>\n",
       "      <th>...</th>\n",
       "      <td>...</td>\n",
       "      <td>...</td>\n",
       "      <td>...</td>\n",
       "    </tr>\n",
       "    <tr>\n",
       "      <th>6</th>\n",
       "      <td>1992.0</td>\n",
       "      <td>Redwood Games</td>\n",
       "      <td>1</td>\n",
       "    </tr>\n",
       "    <tr>\n",
       "      <th>3</th>\n",
       "      <td>1991.0</td>\n",
       "      <td>3D Realms (Apogee Software)</td>\n",
       "      <td>1</td>\n",
       "    </tr>\n",
       "    <tr>\n",
       "      <th>2</th>\n",
       "      <td>1990.0</td>\n",
       "      <td>id Software</td>\n",
       "      <td>4</td>\n",
       "    </tr>\n",
       "    <tr>\n",
       "      <th>1</th>\n",
       "      <td>1990.0</td>\n",
       "      <td>LucasArts</td>\n",
       "      <td>1</td>\n",
       "    </tr>\n",
       "    <tr>\n",
       "      <th>0</th>\n",
       "      <td>1989.0</td>\n",
       "      <td>MicroProse Software, Inc</td>\n",
       "      <td>1</td>\n",
       "    </tr>\n",
       "  </tbody>\n",
       "</table>\n",
       "<p>82 rows × 3 columns</p>\n",
       "</div>"
      ],
      "text/plain": [
       "         año                                          developer  count\n",
       "2671  2017.0                              Smartly Dressed Games   1050\n",
       "2646  2017.0                                            Freejam    346\n",
       "2672  2017.0  Studio Wildcard,Instinct Games,Efecto Studios,...    311\n",
       "2302  2016.0                                        Chucklefish    351\n",
       "2517  2016.0                                          Reto-Moto    242\n",
       "...      ...                                                ...    ...\n",
       "6     1992.0                                      Redwood Games      1\n",
       "3     1991.0                        3D Realms (Apogee Software)      1\n",
       "2     1990.0                                        id Software      4\n",
       "1     1990.0                                          LucasArts      1\n",
       "0     1989.0                           MicroProse Software, Inc      1\n",
       "\n",
       "[82 rows x 3 columns]"
      ]
     },
     "execution_count": 51,
     "metadata": {},
     "output_type": "execute_result"
    }
   ],
   "source": [
    "merge_4 = pd.merge(user_reviews, steam_games, on='item_id', how='left')\n",
    "\n",
    "result = merge_4.loc[(merge_4['recommend'] == False) & \n",
    "                    (merge_4['sentiment_analysis'] == 0), \n",
    "                    ['año', 'developer']]\n",
    "\n",
    "count = merge_4.groupby(['año', 'developer']).size().reset_index(name='count')\n",
    "\n",
    "developer_group = count.sort_values(by=['año', 'count'], ascending=[False, False])\n",
    "\n",
    "worst_developers = developer_group.groupby('año').head(3)\n",
    "\n",
    "worst_developers.to_csv('../datasets/worst_developers.csv', index=False)\n",
    "worst_developers"
   ]
  },
  {
   "cell_type": "markdown",
   "metadata": {},
   "source": [
    "## Sentiment analysis"
   ]
  },
  {
   "cell_type": "code",
   "execution_count": 57,
   "metadata": {},
   "outputs": [],
   "source": [
    "merge_5 = pd.merge(steam_games, user_reviews, on='item_id', how='inner')\n",
    "\n",
    "# Agrupar por desarrolladora y sentimiento, y contar las ocurrencias\n",
    "merge_5 = merge_5.groupby(['developer', 'sentiment_analysis']).size().reset_index(name='count')\n",
    "\n",
    "# Pivoteamos para obtener tabla de frecuencias de sentimientos\n",
    "merge_5 = pd.crosstab(index=merge_5['developer'], columns=merge_5['sentiment_analysis']).reset_index()\n",
    "\n",
    "# Cambiamos nombres de columna\n",
    "merge_5.columns = ['developer', 'Negative', 'Neutral', 'Positive']\n",
    "\n",
    "\n",
    "# Convertimos a tipo int\n",
    "merge_5[['Negative', 'Neutral', 'Positive']] = merge_5[['Negative', 'Neutral', 'Positive']].astype(int)\n",
    "\n",
    "# Exportamos\n",
    "merge_5.to_csv('../datasets/sentiment_analysis.csv', index=False)\n"
   ]
  }
 ],
 "metadata": {
  "kernelspec": {
   "display_name": "Python 3",
   "language": "python",
   "name": "python3"
  },
  "language_info": {
   "codemirror_mode": {
    "name": "ipython",
    "version": 3
   },
   "file_extension": ".py",
   "mimetype": "text/x-python",
   "name": "python",
   "nbconvert_exporter": "python",
   "pygments_lexer": "ipython3",
   "version": "3.10.11"
  }
 },
 "nbformat": 4,
 "nbformat_minor": 2
}
