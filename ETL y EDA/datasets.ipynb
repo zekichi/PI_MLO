{
 "cells": [
  {
   "cell_type": "code",
   "execution_count": 2,
   "metadata": {},
   "outputs": [],
   "source": [
    "import pandas as pd\n",
    "import ast"
   ]
  },
  {
   "cell_type": "markdown",
   "metadata": {},
   "source": [
    "# Optimización de dataset"
   ]
  },
  {
   "cell_type": "markdown",
   "metadata": {},
   "source": [
    "Auquí nos centraremos en optimizar los datasets para, obtener nuevos con fin de mejorar el rendimiento de las API"
   ]
  },
  {
   "cell_type": "code",
   "execution_count": 4,
   "metadata": {},
   "outputs": [],
   "source": [
    "# cargamos los conjuntos de datos que preparamos en el ETL\n",
    "steam_games = pd.read_csv('../datasets/steam_games.csv')\n",
    "user_reviews = pd.read_parquet('../datasets/user_reviews.parquet')\n",
    "users_items = pd.read_parquet('../datasets/users_items.parquet')"
   ]
  },
  {
   "cell_type": "code",
   "execution_count": 5,
   "metadata": {},
   "outputs": [
    {
     "data": {
      "text/plain": [
       "Index(['genres', 'app_name', 'price', 'item_id', 'developer', 'año'], dtype='object')"
      ]
     },
     "execution_count": 5,
     "metadata": {},
     "output_type": "execute_result"
    }
   ],
   "source": [
    "steam_games.columns"
   ]
  },
  {
   "cell_type": "code",
   "execution_count": 6,
   "metadata": {},
   "outputs": [
    {
     "data": {
      "text/plain": [
       "Index(['user_id', 'steam_id', 'item_id', 'horas'], dtype='object')"
      ]
     },
     "execution_count": 6,
     "metadata": {},
     "output_type": "execute_result"
    }
   ],
   "source": [
    "users_items.columns"
   ]
  },
  {
   "cell_type": "markdown",
   "metadata": {},
   "source": [
    "## PlayTimeGenre"
   ]
  },
  {
   "cell_type": "code",
   "execution_count": 9,
   "metadata": {},
   "outputs": [
    {
     "data": {
      "text/html": [
       "<div>\n",
       "<style scoped>\n",
       "    .dataframe tbody tr th:only-of-type {\n",
       "        vertical-align: middle;\n",
       "    }\n",
       "\n",
       "    .dataframe tbody tr th {\n",
       "        vertical-align: top;\n",
       "    }\n",
       "\n",
       "    .dataframe thead th {\n",
       "        text-align: right;\n",
       "    }\n",
       "</style>\n",
       "<table border=\"1\" class=\"dataframe\">\n",
       "  <thead>\n",
       "    <tr style=\"text-align: right;\">\n",
       "      <th></th>\n",
       "      <th>año</th>\n",
       "      <th>genres</th>\n",
       "      <th>horas</th>\n",
       "    </tr>\n",
       "  </thead>\n",
       "  <tbody>\n",
       "    <tr>\n",
       "      <th>0</th>\n",
       "      <td>1983</td>\n",
       "      <td>Action</td>\n",
       "      <td>57.883333</td>\n",
       "    </tr>\n",
       "    <tr>\n",
       "      <th>1</th>\n",
       "      <td>1983</td>\n",
       "      <td>Adventure</td>\n",
       "      <td>57.883333</td>\n",
       "    </tr>\n",
       "    <tr>\n",
       "      <th>2</th>\n",
       "      <td>1983</td>\n",
       "      <td>Casual</td>\n",
       "      <td>57.883333</td>\n",
       "    </tr>\n",
       "    <tr>\n",
       "      <th>3</th>\n",
       "      <td>1983</td>\n",
       "      <td>FMV</td>\n",
       "      <td>57.883333</td>\n",
       "    </tr>\n",
       "    <tr>\n",
       "      <th>4</th>\n",
       "      <td>1983</td>\n",
       "      <td>Quick-Time Events</td>\n",
       "      <td>57.883333</td>\n",
       "    </tr>\n",
       "    <tr>\n",
       "      <th>...</th>\n",
       "      <td>...</td>\n",
       "      <td>...</td>\n",
       "      <td>...</td>\n",
       "    </tr>\n",
       "    <tr>\n",
       "      <th>69044</th>\n",
       "      <td>2018</td>\n",
       "      <td>Early Access</td>\n",
       "      <td>1.700000</td>\n",
       "    </tr>\n",
       "    <tr>\n",
       "      <th>69045</th>\n",
       "      <td>2018</td>\n",
       "      <td>Platformer</td>\n",
       "      <td>1.700000</td>\n",
       "    </tr>\n",
       "    <tr>\n",
       "      <th>69046</th>\n",
       "      <td>2018</td>\n",
       "      <td>Metroidvania</td>\n",
       "      <td>1.700000</td>\n",
       "    </tr>\n",
       "    <tr>\n",
       "      <th>69047</th>\n",
       "      <td>2018</td>\n",
       "      <td>RPG</td>\n",
       "      <td>63.350000</td>\n",
       "    </tr>\n",
       "    <tr>\n",
       "      <th>69048</th>\n",
       "      <td>2018</td>\n",
       "      <td>Early Access</td>\n",
       "      <td>63.350000</td>\n",
       "    </tr>\n",
       "  </tbody>\n",
       "</table>\n",
       "<p>69049 rows × 3 columns</p>\n",
       "</div>"
      ],
      "text/plain": [
       "        año             genres      horas\n",
       "0      1983             Action  57.883333\n",
       "1      1983          Adventure  57.883333\n",
       "2      1983             Casual  57.883333\n",
       "3      1983                FMV  57.883333\n",
       "4      1983  Quick-Time Events  57.883333\n",
       "...     ...                ...        ...\n",
       "69044  2018       Early Access   1.700000\n",
       "69045  2018         Platformer   1.700000\n",
       "69046  2018       Metroidvania   1.700000\n",
       "69047  2018                RPG  63.350000\n",
       "69048  2018       Early Access  63.350000\n",
       "\n",
       "[69049 rows x 3 columns]"
      ]
     },
     "execution_count": 9,
     "metadata": {},
     "output_type": "execute_result"
    }
   ],
   "source": [
    "# Convertir la columna 'item_id' a tipo int64 en ambos DataFrames\n",
    "users_items['item_id'] = users_items['item_id'].astype('int64')\n",
    "steam_games['item_id'] = steam_games['item_id'].astype('int64')\n",
    "\n",
    "merge = pd.merge(users_items, steam_games[['item_id', 'año', 'genres']], on='item_id', how='inner')\n",
    "\n",
    "# Ahora haremos un groupby por genero y año de lanzamiento\n",
    "merge = merge.groupby(['año', 'genres'])['horas'].sum().reset_index()\n",
    "\n",
    "#Convertiremos la columna genres a lista\n",
    "merge['genres'] = merge['genres'].apply(ast.literal_eval)\n",
    "\n",
    "#Pasamos las listas de genres a columnas\n",
    "merge = merge.explode('genres').reset_index(drop=True)\n",
    "\n",
    "merge"
   ]
  },
  {
   "cell_type": "code",
   "execution_count": 10,
   "metadata": {},
   "outputs": [],
   "source": [
    "# Encontrar el género con más horas jugadas por año \n",
    "genre = merge.loc[merge.groupby(['año', 'genres'])['horas'].idxmax()]\n",
    "\n",
    "# Ordenar el DataFrame resultante\n",
    "genre = genre.sort_values(by=['genres', 'horas', 'año'], ascending=[True, False, True])\n",
    "\n",
    "# Guardar el resultado en un archivo CSV\n",
    "genre.to_csv('../datasets/año_genres.csv', index=False)"
   ]
  },
  {
   "cell_type": "code",
   "execution_count": null,
   "metadata": {},
   "outputs": [],
   "source": []
  }
 ],
 "metadata": {
  "kernelspec": {
   "display_name": "Python 3",
   "language": "python",
   "name": "python3"
  },
  "language_info": {
   "codemirror_mode": {
    "name": "ipython",
    "version": 3
   },
   "file_extension": ".py",
   "mimetype": "text/x-python",
   "name": "python",
   "nbconvert_exporter": "python",
   "pygments_lexer": "ipython3",
   "version": "3.10.11"
  }
 },
 "nbformat": 4,
 "nbformat_minor": 2
}
