{
 "cells": [
  {
   "cell_type": "markdown",
   "metadata": {},
   "source": [
    "# Modelo de recomendación"
   ]
  },
  {
   "cell_type": "code",
   "execution_count": 1,
   "metadata": {},
   "outputs": [],
   "source": [
    "import pandas as pd\n",
    "from sklearn.feature_extraction.text import CountVectorizer\n",
    "from sklearn.metrics.pairwise import cosine_similarity"
   ]
  },
  {
   "cell_type": "markdown",
   "metadata": {},
   "source": [
    "Cargamos datasets"
   ]
  },
  {
   "cell_type": "code",
   "execution_count": 2,
   "metadata": {},
   "outputs": [],
   "source": [
    "steam_games = pd.read_csv('datasets/steam_games.csv')"
   ]
  },
  {
   "cell_type": "markdown",
   "metadata": {},
   "source": [
    "Tratamiento para optimizar el trabajo"
   ]
  },
  {
   "cell_type": "code",
   "execution_count": 3,
   "metadata": {},
   "outputs": [],
   "source": [
    "# Seleccionar columnas y limpiar 'specs'\n",
    "df = steam_games.loc[:, [\"specs\", \"item_id\", \"app_name\"]].assign(\n",
    "    specs=lambda x: x['specs'].astype(str).str.replace(r\"[\\[\\]']\", \"\", regex=True))\n",
    "\n",
    "# Convertir 'item_id' a tipo entero\n",
    "df[\"item_id\"] = df[\"item_id\"].astype(int)\n"
   ]
  },
  {
   "cell_type": "code",
   "execution_count": 4,
   "metadata": {},
   "outputs": [],
   "source": [
    "# Especificar parámetros\n",
    "cv = CountVectorizer(lowercase=True, stop_words='english')\n",
    "\n",
    "# Obtener la matriz dispersa\n",
    "vectores_sparse = cv.fit_transform(df['specs'])\n",
    "\n",
    "# Si deseas una matriz densa:\n",
    "vectores_dense = vectores_sparse.toarray()"
   ]
  },
  {
   "cell_type": "code",
   "execution_count": 5,
   "metadata": {},
   "outputs": [],
   "source": [
    "# Calcular la similitud del coseno entre vectores\n",
    "similitud = cosine_similarity(vectores_dense)"
   ]
  },
  {
   "cell_type": "code",
   "execution_count": 6,
   "metadata": {},
   "outputs": [],
   "source": [
    "def recomendacion(juego, df, similitud, juego_a_indice):\n",
    "    indice_juego = juego_a_indice.get(juego)\n",
    "    if indice_juego is None:\n",
    "        return \"Juego no encontrado en la base de datos.\"\n",
    "\n",
    "    distances = similitud[indice_juego]\n",
    "    similar_indices = distances.argsort()[::-1][1:6]  # Índices de los juegos más similares, excluyendo el propio juego\n",
    "    recommended_titles = df.iloc[similar_indices]['app_name'].tolist()\n",
    "    \n",
    "    return recommended_titles\n",
    "\n",
    "# Precomputar el mapeo de títulos de juegos a índices\n",
    "juego_a_indice = {juego: indice for indice, juego in enumerate(df['item_id'])}\n",
    "\n",
    "# Ejemplo de uso:\n",
    "recomendaciones = recomendacion(\"Nombre del juego\", df, similitud, juego_a_indice)\n",
    "\n",
    "# Aplicar la función a la columna 'item_id' y crear una nueva columna 'Recomendaciones'\n",
    "df['Recomendaciones'] = df['item_id'].apply(recomendacion, df=df, similitud=similitud, juego_a_indice=juego_a_indice)\n"
   ]
  },
  {
   "cell_type": "code",
   "execution_count": 9,
   "metadata": {},
   "outputs": [
    {
     "data": {
      "text/html": [
       "<div>\n",
       "<style scoped>\n",
       "    .dataframe tbody tr th:only-of-type {\n",
       "        vertical-align: middle;\n",
       "    }\n",
       "\n",
       "    .dataframe tbody tr th {\n",
       "        vertical-align: top;\n",
       "    }\n",
       "\n",
       "    .dataframe thead th {\n",
       "        text-align: right;\n",
       "    }\n",
       "</style>\n",
       "<table border=\"1\" class=\"dataframe\">\n",
       "  <thead>\n",
       "    <tr style=\"text-align: right;\">\n",
       "      <th></th>\n",
       "      <th>item_id</th>\n",
       "      <th>Recomendaciones</th>\n",
       "    </tr>\n",
       "  </thead>\n",
       "  <tbody>\n",
       "    <tr>\n",
       "      <th>0</th>\n",
       "      <td>761140</td>\n",
       "      <td>[The Valley In My Mind, The Great Jitters: Pud...</td>\n",
       "    </tr>\n",
       "    <tr>\n",
       "      <th>1</th>\n",
       "      <td>643980</td>\n",
       "      <td>[Ironbound, Warhammer 40,000: Regicide, KROSMA...</td>\n",
       "    </tr>\n",
       "    <tr>\n",
       "      <th>2</th>\n",
       "      <td>670290</td>\n",
       "      <td>[Hunger Dungeon, Lords of War, Heroes of Parag...</td>\n",
       "    </tr>\n",
       "    <tr>\n",
       "      <th>3</th>\n",
       "      <td>767400</td>\n",
       "      <td>[The Valley In My Mind, The Great Jitters: Pud...</td>\n",
       "    </tr>\n",
       "    <tr>\n",
       "      <th>4</th>\n",
       "      <td>772540</td>\n",
       "      <td>[AL･FINE, Only If, Defense Warfare, Air Dash, ...</td>\n",
       "    </tr>\n",
       "    <tr>\n",
       "      <th>...</th>\n",
       "      <td>...</td>\n",
       "      <td>...</td>\n",
       "    </tr>\n",
       "    <tr>\n",
       "      <th>27176</th>\n",
       "      <td>745400</td>\n",
       "      <td>[Lost Grimoires 3: The Forgotten Well, Nebula ...</td>\n",
       "    </tr>\n",
       "    <tr>\n",
       "      <th>27177</th>\n",
       "      <td>773640</td>\n",
       "      <td>[AL･FINE, Only If, Defense Warfare, Air Dash, ...</td>\n",
       "    </tr>\n",
       "    <tr>\n",
       "      <th>27178</th>\n",
       "      <td>733530</td>\n",
       "      <td>[Crushing Blow, Quantz, Sentinels, Flight Cont...</td>\n",
       "    </tr>\n",
       "    <tr>\n",
       "      <th>27179</th>\n",
       "      <td>610660</td>\n",
       "      <td>[Puzzle Box, The Men of Yoshiwara: Ohgiya, Pap...</td>\n",
       "    </tr>\n",
       "    <tr>\n",
       "      <th>27180</th>\n",
       "      <td>658870</td>\n",
       "      <td>[Lost Grimoires 3: The Forgotten Well, Nebula ...</td>\n",
       "    </tr>\n",
       "  </tbody>\n",
       "</table>\n",
       "<p>27181 rows × 2 columns</p>\n",
       "</div>"
      ],
      "text/plain": [
       "       item_id                                    Recomendaciones\n",
       "0       761140  [The Valley In My Mind, The Great Jitters: Pud...\n",
       "1       643980  [Ironbound, Warhammer 40,000: Regicide, KROSMA...\n",
       "2       670290  [Hunger Dungeon, Lords of War, Heroes of Parag...\n",
       "3       767400  [The Valley In My Mind, The Great Jitters: Pud...\n",
       "4       772540  [AL･FINE, Only If, Defense Warfare, Air Dash, ...\n",
       "...        ...                                                ...\n",
       "27176   745400  [Lost Grimoires 3: The Forgotten Well, Nebula ...\n",
       "27177   773640  [AL･FINE, Only If, Defense Warfare, Air Dash, ...\n",
       "27178   733530  [Crushing Blow, Quantz, Sentinels, Flight Cont...\n",
       "27179   610660  [Puzzle Box, The Men of Yoshiwara: Ohgiya, Pap...\n",
       "27180   658870  [Lost Grimoires 3: The Forgotten Well, Nebula ...\n",
       "\n",
       "[27181 rows x 2 columns]"
      ]
     },
     "execution_count": 9,
     "metadata": {},
     "output_type": "execute_result"
    }
   ],
   "source": [
    "# df.drop(columns=['app_name', 'specs'], inplace=True)\n",
    "df"
   ]
  },
  {
   "cell_type": "code",
   "execution_count": 10,
   "metadata": {},
   "outputs": [],
   "source": [
    "df.to_csv('datasets/model_recommend.csv')"
   ]
  }
 ],
 "metadata": {
  "kernelspec": {
   "display_name": "Python 3",
   "language": "python",
   "name": "python3"
  },
  "language_info": {
   "codemirror_mode": {
    "name": "ipython",
    "version": 3
   },
   "file_extension": ".py",
   "mimetype": "text/x-python",
   "name": "python",
   "nbconvert_exporter": "python",
   "pygments_lexer": "ipython3",
   "version": "3.10.11"
  }
 },
 "nbformat": 4,
 "nbformat_minor": 2
}
